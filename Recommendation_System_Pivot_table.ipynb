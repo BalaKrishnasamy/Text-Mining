{
 "cells": [
  {
   "cell_type": "code",
   "execution_count": 1,
   "id": "eab77286",
   "metadata": {},
   "outputs": [],
   "source": [
    "import pandas as pd\n",
    "import numpy as np\n",
    "import pandas as pd\n",
    "import numpy as np\n",
    "from nltk.corpus import stopwords\n",
    "from sklearn.metrics.pairwise import linear_kernel\n",
    "from sklearn.feature_extraction.text import CountVectorizer\n",
    "from sklearn.feature_extraction.text import TfidfVectorizer"
   ]
  },
  {
   "cell_type": "code",
   "execution_count": 2,
   "id": "ea2f45e8",
   "metadata": {},
   "outputs": [],
   "source": [
    "# Reading the file\n",
    "Book = pd.read_csv('Downloads\\\\bookRS.csv')"
   ]
  },
  {
   "cell_type": "code",
   "execution_count": 3,
   "id": "2adf46a7",
   "metadata": {},
   "outputs": [
    {
     "data": {
      "text/html": [
       "<div>\n",
       "<style scoped>\n",
       "    .dataframe tbody tr th:only-of-type {\n",
       "        vertical-align: middle;\n",
       "    }\n",
       "\n",
       "    .dataframe tbody tr th {\n",
       "        vertical-align: top;\n",
       "    }\n",
       "\n",
       "    .dataframe thead th {\n",
       "        text-align: right;\n",
       "    }\n",
       "</style>\n",
       "<table border=\"1\" class=\"dataframe\">\n",
       "  <thead>\n",
       "    <tr style=\"text-align: right;\">\n",
       "      <th></th>\n",
       "      <th>Unnamed: 0</th>\n",
       "      <th>User.ID</th>\n",
       "      <th>Book.Title</th>\n",
       "      <th>Book.Rating</th>\n",
       "    </tr>\n",
       "  </thead>\n",
       "  <tbody>\n",
       "    <tr>\n",
       "      <th>0</th>\n",
       "      <td>1</td>\n",
       "      <td>276726</td>\n",
       "      <td>Classical Mythology</td>\n",
       "      <td>5</td>\n",
       "    </tr>\n",
       "    <tr>\n",
       "      <th>1</th>\n",
       "      <td>2</td>\n",
       "      <td>276729</td>\n",
       "      <td>Clara Callan</td>\n",
       "      <td>3</td>\n",
       "    </tr>\n",
       "    <tr>\n",
       "      <th>2</th>\n",
       "      <td>3</td>\n",
       "      <td>276729</td>\n",
       "      <td>Decision in Normandy</td>\n",
       "      <td>6</td>\n",
       "    </tr>\n",
       "    <tr>\n",
       "      <th>3</th>\n",
       "      <td>4</td>\n",
       "      <td>276736</td>\n",
       "      <td>Flu: The Story of the Great Influenza Pandemic...</td>\n",
       "      <td>8</td>\n",
       "    </tr>\n",
       "    <tr>\n",
       "      <th>4</th>\n",
       "      <td>5</td>\n",
       "      <td>276737</td>\n",
       "      <td>The Mummies of Urumchi</td>\n",
       "      <td>6</td>\n",
       "    </tr>\n",
       "  </tbody>\n",
       "</table>\n",
       "</div>"
      ],
      "text/plain": [
       "   Unnamed: 0  User.ID                                         Book.Title  \\\n",
       "0           1   276726                                Classical Mythology   \n",
       "1           2   276729                                       Clara Callan   \n",
       "2           3   276729                               Decision in Normandy   \n",
       "3           4   276736  Flu: The Story of the Great Influenza Pandemic...   \n",
       "4           5   276737                             The Mummies of Urumchi   \n",
       "\n",
       "   Book.Rating  \n",
       "0            5  \n",
       "1            3  \n",
       "2            6  \n",
       "3            8  \n",
       "4            6  "
      ]
     },
     "execution_count": 3,
     "metadata": {},
     "output_type": "execute_result"
    }
   ],
   "source": [
    "Book.head()"
   ]
  },
  {
   "cell_type": "code",
   "execution_count": 4,
   "id": "ef095257",
   "metadata": {
    "scrolled": true
   },
   "outputs": [
    {
     "name": "stdout",
     "output_type": "stream",
     "text": [
      "<class 'pandas.core.frame.DataFrame'>\n",
      "RangeIndex: 10000 entries, 0 to 9999\n",
      "Data columns (total 4 columns):\n",
      " #   Column       Non-Null Count  Dtype \n",
      "---  ------       --------------  ----- \n",
      " 0   Unnamed: 0   10000 non-null  int64 \n",
      " 1   User.ID      10000 non-null  int64 \n",
      " 2   Book.Title   10000 non-null  object\n",
      " 3   Book.Rating  10000 non-null  int64 \n",
      "dtypes: int64(3), object(1)\n",
      "memory usage: 312.6+ KB\n"
     ]
    }
   ],
   "source": [
    "Book.info()"
   ]
  },
  {
   "cell_type": "code",
   "execution_count": 5,
   "id": "f6acc031",
   "metadata": {},
   "outputs": [
    {
     "data": {
      "text/plain": [
       "(10000, 4)"
      ]
     },
     "execution_count": 5,
     "metadata": {},
     "output_type": "execute_result"
    }
   ],
   "source": [
    "Book.shape"
   ]
  },
  {
   "cell_type": "code",
   "execution_count": 6,
   "id": "770b8eae",
   "metadata": {},
   "outputs": [
    {
     "data": {
      "text/plain": [
       "Index(['Unnamed: 0', 'User.ID', 'Book.Title', 'Book.Rating'], dtype='object')"
      ]
     },
     "execution_count": 6,
     "metadata": {},
     "output_type": "execute_result"
    }
   ],
   "source": [
    "Book.columns"
   ]
  },
  {
   "cell_type": "code",
   "execution_count": 7,
   "id": "3e587227",
   "metadata": {},
   "outputs": [],
   "source": [
    "Book1 = Book.rename(columns={\"User.ID\": \"ID\",\"Book.Title\":\"Title\",\"Book.Rating\":\"Rating\"})"
   ]
  },
  {
   "cell_type": "code",
   "execution_count": 8,
   "id": "012e61ad",
   "metadata": {},
   "outputs": [],
   "source": [
    "from sklearn.feature_extraction.text import TfidfVectorizer"
   ]
  },
  {
   "cell_type": "code",
   "execution_count": 9,
   "id": "70031658",
   "metadata": {},
   "outputs": [],
   "source": [
    "# Creating a Tfidf Vectorizer to remove all stop words\n",
    "tfiBook = TfidfVectorizer(stop_words=\"english\")  "
   ]
  },
  {
   "cell_type": "code",
   "execution_count": 10,
   "id": "12834bfc",
   "metadata": {},
   "outputs": [
    {
     "data": {
      "text/plain": [
       "0"
      ]
     },
     "execution_count": 10,
     "metadata": {},
     "output_type": "execute_result"
    }
   ],
   "source": [
    "# replacing the NaN values in overview column with\n",
    "# empty string\n",
    "Book1[\"Title\"].isnull().sum() "
   ]
  },
  {
   "cell_type": "code",
   "execution_count": 11,
   "id": "5ac058ce",
   "metadata": {},
   "outputs": [
    {
     "data": {
      "text/plain": [
       "(10000, 11404)"
      ]
     },
     "execution_count": 11,
     "metadata": {},
     "output_type": "execute_result"
    }
   ],
   "source": [
    "# Preparing the Tfidf matrix by fitting and transforming\n",
    "\n",
    "tfiBook_matrix = tfiBook.fit_transform(Book1.Title)  \n",
    "tfiBook_matrix.shape "
   ]
  },
  {
   "cell_type": "code",
   "execution_count": 12,
   "id": "8ea44730",
   "metadata": {},
   "outputs": [],
   "source": [
    "from sklearn.metrics.pairwise import linear_kernel\n",
    "\n",
    "# Computing the cosine similarity on TfiBook matrix\n",
    "cosine_sim_matrix = linear_kernel(tfiBook_matrix,tfiBook_matrix)"
   ]
  },
  {
   "cell_type": "code",
   "execution_count": 13,
   "id": "012bdca4",
   "metadata": {},
   "outputs": [],
   "source": [
    "# creating a mapping of book name to index number \n",
    "Book1_index = pd.Series(Book1.index,index=Book1['Title']).drop_duplicates()"
   ]
  },
  {
   "cell_type": "code",
   "execution_count": 14,
   "id": "2f4fc474",
   "metadata": {},
   "outputs": [
    {
     "name": "stdout",
     "output_type": "stream",
     "text": [
      "Title\n",
      "Classical Mythology                                                                                      0\n",
      "Clara Callan                                                                                             1\n",
      "Decision in Normandy                                                                                     2\n",
      "Flu: The Story of the Great Influenza Pandemic of 1918 and the Search for the Virus That Caused It       3\n",
      "The Mummies of Urumchi                                                                                   4\n",
      "                                                                                                      ... \n",
      "American Fried: Adventures of a Happy Eater.                                                          9995\n",
      "Cannibal In Manhattan                                                                                 9996\n",
      "How to Flirt: A Practical Guide                                                                       9997\n",
      "Twilight                                                                                              9998\n",
      "Kids Say the Darndest Things                                                                          9999\n",
      "Length: 10000, dtype: int64\n"
     ]
    }
   ],
   "source": [
    "print(Book1_index)"
   ]
  },
  {
   "cell_type": "code",
   "execution_count": 15,
   "id": "4a46fd73",
   "metadata": {},
   "outputs": [
    {
     "data": {
      "text/plain": [
       "0"
      ]
     },
     "execution_count": 15,
     "metadata": {},
     "output_type": "execute_result"
    }
   ],
   "source": [
    "Book1_index[\"Classical Mythology\"]"
   ]
  },
  {
   "cell_type": "code",
   "execution_count": 16,
   "id": "c580c4aa",
   "metadata": {},
   "outputs": [
    {
     "data": {
      "text/plain": [
       "24"
      ]
     },
     "execution_count": 16,
     "metadata": {},
     "output_type": "execute_result"
    }
   ],
   "source": [
    "Book1_index[\"Tell Me This Isn't Happening\"]"
   ]
  },
  {
   "cell_type": "code",
   "execution_count": 17,
   "id": "d654a9df",
   "metadata": {},
   "outputs": [],
   "source": [
    "def get_Book_recommendations(Title,topN):  #topN = 10\n",
    "    # Getting the book index using its Title \n",
    "    Book1_Title = Book1_index[Title]\n",
    "        \n",
    "    # Getting the pair wise similarity score for all the book's \n",
    "    cosine_scores = list(enumerate(cosine_sim_matrix[Book1_Title]))\n",
    "    \n",
    "    # Sorting the cosine_similarity scores based on scores \n",
    "    cosine_scores = sorted(cosine_scores,key=lambda x:x[1],reverse = True)\n",
    "    \n",
    "    # Get the scores of top 10 most similar book's \n",
    "    cosine_scores_10 = cosine_scores[0:topN+1]\n",
    "    \n",
    "    # Getting the book index \n",
    "    Book1_idx  =  [i[0] for i in cosine_scores_10]\n",
    "    Book1_scores =  [i[1] for i in cosine_scores_10]\n",
    "    \n",
    "    # Similar movies and scores\n",
    "    Book1_similar_read = pd.DataFrame(columns=[\"Title\",\"Score\"])\n",
    "    Book1_similar_read[\"Title\"] = Book1.loc[Book1_idx,\"Title\"]\n",
    "    Book1_similar_read[\"Score\"] = Book1_scores\n",
    "    Book1_similar_read.reset_index(inplace=True)  \n",
    "    Book1_similar_read.drop([\"index\"],axis=1,inplace=True)\n",
    "    print (Book1_similar_read)\n",
    "    "
   ]
  },
  {
   "cell_type": "code",
   "execution_count": 18,
   "id": "79e890e2",
   "metadata": {},
   "outputs": [
    {
     "name": "stdout",
     "output_type": "stream",
     "text": [
      "                                                Title     Score\n",
      "0                        Tell Me This Isn't Happening  1.000000\n",
      "1                                         Tell No One  0.486005\n",
      "2                               And the Sea Will Tell  0.359438\n",
      "3                                 Tell Me Your Dreams  0.353119\n",
      "4   Prince Charming Isn't Coming: How Women Get Sm...  0.279408\n",
      "5   The What's Happening to My Body? Book for Boys...  0.276636\n",
      "6   KISS AND TELL (NANCY DREW FILES 104) : KISS AN...  0.270537\n",
      "7              More Scary Stories To Tell In The Dark  0.249233\n",
      "8                   Scary Stories to Tell In the Dark  0.249233\n",
      "9                     Raised Catholic (Can You Tell?)  0.249189\n",
      "10                       I Cannot Tell a Lie, Exactly  0.241275\n"
     ]
    }
   ],
   "source": [
    "# Enter your Book and number of books to be recommended \n",
    "get_Book_recommendations(\"Tell Me This Isn't Happening\", topN=10)"
   ]
  },
  {
   "cell_type": "code",
   "execution_count": null,
   "id": "e8bf82ab",
   "metadata": {},
   "outputs": [],
   "source": []
  },
  {
   "cell_type": "code",
   "execution_count": 19,
   "id": "4a18b646",
   "metadata": {},
   "outputs": [],
   "source": [
    "# creating a mapping of book name to index number \n",
    "Book2_index = pd.Series(Book1.index,index=Book1['Rating']).drop_duplicates()"
   ]
  },
  {
   "cell_type": "code",
   "execution_count": 20,
   "id": "f97ae4d0",
   "metadata": {},
   "outputs": [
    {
     "name": "stdout",
     "output_type": "stream",
     "text": [
      "Rating\n",
      "5       0\n",
      "3       1\n",
      "6       2\n",
      "8       3\n",
      "6       4\n",
      "     ... \n",
      "7    9995\n",
      "9    9996\n",
      "7    9997\n",
      "8    9998\n",
      "6    9999\n",
      "Length: 10000, dtype: int64\n"
     ]
    }
   ],
   "source": [
    "print(Book2_index)"
   ]
  },
  {
   "cell_type": "code",
   "execution_count": 21,
   "id": "c84851f0",
   "metadata": {},
   "outputs": [
    {
     "data": {
      "text/plain": [
       "Rating\n",
       "10       6\n",
       "10      16\n",
       "10      23\n",
       "10      24\n",
       "10      34\n",
       "      ... \n",
       "10    9958\n",
       "10    9967\n",
       "10    9968\n",
       "10    9969\n",
       "10    9988\n",
       "Length: 1732, dtype: int64"
      ]
     },
     "execution_count": 21,
     "metadata": {},
     "output_type": "execute_result"
    }
   ],
   "source": [
    "Book2_index[10]"
   ]
  },
  {
   "cell_type": "code",
   "execution_count": 22,
   "id": "780ba33d",
   "metadata": {},
   "outputs": [],
   "source": [
    "def get_Book_recommendations(Rating,topN):  #topN = 10\n",
    "    # Getting the book index using its Title \n",
    "    Book1_Rating = Book1_index[Rating]\n",
    "        \n",
    "    # Getting the pair wise similarity score for all the book's \n",
    "    cosine_scores = list(enumerate(cosine_sim_matrix[Book1_Rating]))\n",
    "    \n",
    "    # Sorting the cosine_similarity scores based on scores \n",
    "    cosine_scores = sorted(cosine_scores,key=lambda x:x[1],reverse = True)\n",
    "    \n",
    "    # Get the scores of top 10 most similar book's \n",
    "    cosine_scores_10 = cosine_scores[0:topN+1]\n",
    "    \n",
    "    # Getting the book index \n",
    "    Book1_idx  =  [i[0] for i in cosine_scores_10]\n",
    "    Book1_scores =  [i[1] for i in cosine_scores_10]\n",
    "    \n",
    "    # Similar movies and scores\n",
    "    Book1_similar_read = pd.DataFrame(columns=[\"Rating\",\"Score\"])\n",
    "    Book1_similar_read[\"Rating\"] = Book1.loc[Book1_idx,\"Rating\"]\n",
    "    Book1_similar_read[\"Score\"] = Book1_scores\n",
    "    Book1_similar_read.reset_index(inplace=True)  \n",
    "    Book1_similar_read.drop([\"index\"],axis=1,inplace=True)\n",
    "    print (Book1_similar_read)\n",
    "    "
   ]
  },
  {
   "cell_type": "code",
   "execution_count": 23,
   "id": "8da60e2b",
   "metadata": {},
   "outputs": [
    {
     "data": {
      "text/plain": [
       "Rating\n",
       "10       6\n",
       "10      16\n",
       "10      23\n",
       "10      24\n",
       "10      34\n",
       "      ... \n",
       "10    9958\n",
       "10    9967\n",
       "10    9968\n",
       "10    9969\n",
       "10    9988\n",
       "Length: 1732, dtype: int64"
      ]
     },
     "execution_count": 23,
     "metadata": {},
     "output_type": "execute_result"
    }
   ],
   "source": [
    "Book2_index[10]"
   ]
  },
  {
   "cell_type": "code",
   "execution_count": 24,
   "id": "1715d7cc",
   "metadata": {},
   "outputs": [
    {
     "name": "stdout",
     "output_type": "stream",
     "text": [
      "    Rating     Score\n",
      "0        7  1.000000\n",
      "1        8  0.618913\n",
      "2        4  0.412809\n",
      "3       10  0.389121\n",
      "4        8  0.389121\n",
      "5        6  0.364646\n",
      "6       10  0.364380\n",
      "7        8  0.364380\n",
      "8        6  0.334253\n",
      "9        7  0.315843\n",
      "10       7  0.314089\n",
      "11       3  0.314089\n",
      "12       5  0.314089\n",
      "13      10  0.311434\n",
      "14      10  0.299105\n",
      "15       7  0.289712\n",
      "16       6  0.288989\n",
      "17       7  0.287768\n",
      "18       8  0.273958\n",
      "19       5  0.264397\n",
      "20      10  0.246087\n"
     ]
    }
   ],
   "source": [
    "# Enter your Book and number of books to be recommended \n",
    "get_Book_recommendations(10, topN=20)"
   ]
  },
  {
   "cell_type": "markdown",
   "id": "35012720",
   "metadata": {},
   "source": [
    "Book Recommendation with pivot tool method"
   ]
  },
  {
   "cell_type": "code",
   "execution_count": 25,
   "id": "ade0b952",
   "metadata": {},
   "outputs": [
    {
     "data": {
      "text/html": [
       "<div>\n",
       "<style scoped>\n",
       "    .dataframe tbody tr th:only-of-type {\n",
       "        vertical-align: middle;\n",
       "    }\n",
       "\n",
       "    .dataframe tbody tr th {\n",
       "        vertical-align: top;\n",
       "    }\n",
       "\n",
       "    .dataframe thead th {\n",
       "        text-align: right;\n",
       "    }\n",
       "</style>\n",
       "<table border=\"1\" class=\"dataframe\">\n",
       "  <thead>\n",
       "    <tr style=\"text-align: right;\">\n",
       "      <th></th>\n",
       "      <th>Unnamed: 0</th>\n",
       "      <th>ID</th>\n",
       "      <th>Title</th>\n",
       "      <th>Rating</th>\n",
       "    </tr>\n",
       "  </thead>\n",
       "  <tbody>\n",
       "    <tr>\n",
       "      <th>0</th>\n",
       "      <td>1</td>\n",
       "      <td>276726</td>\n",
       "      <td>Classical Mythology</td>\n",
       "      <td>5</td>\n",
       "    </tr>\n",
       "    <tr>\n",
       "      <th>1</th>\n",
       "      <td>2</td>\n",
       "      <td>276729</td>\n",
       "      <td>Clara Callan</td>\n",
       "      <td>3</td>\n",
       "    </tr>\n",
       "    <tr>\n",
       "      <th>2</th>\n",
       "      <td>3</td>\n",
       "      <td>276729</td>\n",
       "      <td>Decision in Normandy</td>\n",
       "      <td>6</td>\n",
       "    </tr>\n",
       "    <tr>\n",
       "      <th>3</th>\n",
       "      <td>4</td>\n",
       "      <td>276736</td>\n",
       "      <td>Flu: The Story of the Great Influenza Pandemic...</td>\n",
       "      <td>8</td>\n",
       "    </tr>\n",
       "    <tr>\n",
       "      <th>4</th>\n",
       "      <td>5</td>\n",
       "      <td>276737</td>\n",
       "      <td>The Mummies of Urumchi</td>\n",
       "      <td>6</td>\n",
       "    </tr>\n",
       "  </tbody>\n",
       "</table>\n",
       "</div>"
      ],
      "text/plain": [
       "   Unnamed: 0      ID                                              Title  \\\n",
       "0           1  276726                                Classical Mythology   \n",
       "1           2  276729                                       Clara Callan   \n",
       "2           3  276729                               Decision in Normandy   \n",
       "3           4  276736  Flu: The Story of the Great Influenza Pandemic...   \n",
       "4           5  276737                             The Mummies of Urumchi   \n",
       "\n",
       "   Rating  \n",
       "0       5  \n",
       "1       3  \n",
       "2       6  \n",
       "3       8  \n",
       "4       6  "
      ]
     },
     "execution_count": 25,
     "metadata": {},
     "output_type": "execute_result"
    }
   ],
   "source": [
    "Book1.head()"
   ]
  },
  {
   "cell_type": "code",
   "execution_count": 26,
   "id": "d7320ad9",
   "metadata": {},
   "outputs": [],
   "source": [
    "# Convert Title, Id and rating to numeric\n",
    "Book1[['ID','Rating']] = Book1[['ID','Rating']].apply(pd.to_numeric)"
   ]
  },
  {
   "cell_type": "code",
   "execution_count": 27,
   "id": "cc8f166c",
   "metadata": {},
   "outputs": [],
   "source": [
    "# Convert table to pivot table\n",
    "Book1_pivot = Book1.pivot_table(values = 'Rating', index = 'Title', columns = 'ID')  "
   ]
  },
  {
   "cell_type": "code",
   "execution_count": 28,
   "id": "1d272ee0",
   "metadata": {},
   "outputs": [],
   "source": [
    "# Replace NaNs with 0s\n",
    "Book1_pivot.fillna(0, inplace = True)"
   ]
  },
  {
   "cell_type": "code",
   "execution_count": 29,
   "id": "f9d04144",
   "metadata": {},
   "outputs": [
    {
     "data": {
      "text/html": [
       "<div>\n",
       "<style scoped>\n",
       "    .dataframe tbody tr th:only-of-type {\n",
       "        vertical-align: middle;\n",
       "    }\n",
       "\n",
       "    .dataframe tbody tr th {\n",
       "        vertical-align: top;\n",
       "    }\n",
       "\n",
       "    .dataframe thead th {\n",
       "        text-align: right;\n",
       "    }\n",
       "</style>\n",
       "<table border=\"1\" class=\"dataframe\">\n",
       "  <thead>\n",
       "    <tr style=\"text-align: right;\">\n",
       "      <th>ID</th>\n",
       "      <th>8</th>\n",
       "      <th>9</th>\n",
       "      <th>10</th>\n",
       "      <th>12</th>\n",
       "      <th>14</th>\n",
       "      <th>16</th>\n",
       "      <th>17</th>\n",
       "      <th>19</th>\n",
       "      <th>22</th>\n",
       "      <th>26</th>\n",
       "      <th>...</th>\n",
       "      <th>278831</th>\n",
       "      <th>278832</th>\n",
       "      <th>278836</th>\n",
       "      <th>278843</th>\n",
       "      <th>278844</th>\n",
       "      <th>278846</th>\n",
       "      <th>278849</th>\n",
       "      <th>278851</th>\n",
       "      <th>278852</th>\n",
       "      <th>278854</th>\n",
       "    </tr>\n",
       "    <tr>\n",
       "      <th>Title</th>\n",
       "      <th></th>\n",
       "      <th></th>\n",
       "      <th></th>\n",
       "      <th></th>\n",
       "      <th></th>\n",
       "      <th></th>\n",
       "      <th></th>\n",
       "      <th></th>\n",
       "      <th></th>\n",
       "      <th></th>\n",
       "      <th></th>\n",
       "      <th></th>\n",
       "      <th></th>\n",
       "      <th></th>\n",
       "      <th></th>\n",
       "      <th></th>\n",
       "      <th></th>\n",
       "      <th></th>\n",
       "      <th></th>\n",
       "      <th></th>\n",
       "      <th></th>\n",
       "    </tr>\n",
       "  </thead>\n",
       "  <tbody>\n",
       "    <tr>\n",
       "      <th>Jason, Madison &amp;amp</th>\n",
       "      <td>0.0</td>\n",
       "      <td>0.0</td>\n",
       "      <td>0.0</td>\n",
       "      <td>0.0</td>\n",
       "      <td>0.0</td>\n",
       "      <td>0.0</td>\n",
       "      <td>0.0</td>\n",
       "      <td>0.0</td>\n",
       "      <td>0.0</td>\n",
       "      <td>0.0</td>\n",
       "      <td>...</td>\n",
       "      <td>0.0</td>\n",
       "      <td>0.0</td>\n",
       "      <td>0.0</td>\n",
       "      <td>0.0</td>\n",
       "      <td>0.0</td>\n",
       "      <td>0.0</td>\n",
       "      <td>0.0</td>\n",
       "      <td>0.0</td>\n",
       "      <td>0.0</td>\n",
       "      <td>0.0</td>\n",
       "    </tr>\n",
       "    <tr>\n",
       "      <th>Other Stories;Merril;1985;McClelland &amp;amp</th>\n",
       "      <td>0.0</td>\n",
       "      <td>0.0</td>\n",
       "      <td>0.0</td>\n",
       "      <td>0.0</td>\n",
       "      <td>0.0</td>\n",
       "      <td>0.0</td>\n",
       "      <td>0.0</td>\n",
       "      <td>0.0</td>\n",
       "      <td>0.0</td>\n",
       "      <td>0.0</td>\n",
       "      <td>...</td>\n",
       "      <td>0.0</td>\n",
       "      <td>0.0</td>\n",
       "      <td>0.0</td>\n",
       "      <td>0.0</td>\n",
       "      <td>0.0</td>\n",
       "      <td>0.0</td>\n",
       "      <td>0.0</td>\n",
       "      <td>0.0</td>\n",
       "      <td>0.0</td>\n",
       "      <td>0.0</td>\n",
       "    </tr>\n",
       "    <tr>\n",
       "      <th>Repairing PC Drives &amp;amp</th>\n",
       "      <td>0.0</td>\n",
       "      <td>0.0</td>\n",
       "      <td>0.0</td>\n",
       "      <td>0.0</td>\n",
       "      <td>0.0</td>\n",
       "      <td>0.0</td>\n",
       "      <td>0.0</td>\n",
       "      <td>0.0</td>\n",
       "      <td>0.0</td>\n",
       "      <td>0.0</td>\n",
       "      <td>...</td>\n",
       "      <td>0.0</td>\n",
       "      <td>0.0</td>\n",
       "      <td>0.0</td>\n",
       "      <td>0.0</td>\n",
       "      <td>0.0</td>\n",
       "      <td>0.0</td>\n",
       "      <td>0.0</td>\n",
       "      <td>0.0</td>\n",
       "      <td>0.0</td>\n",
       "      <td>0.0</td>\n",
       "    </tr>\n",
       "    <tr>\n",
       "      <th>'48</th>\n",
       "      <td>0.0</td>\n",
       "      <td>0.0</td>\n",
       "      <td>0.0</td>\n",
       "      <td>0.0</td>\n",
       "      <td>0.0</td>\n",
       "      <td>0.0</td>\n",
       "      <td>0.0</td>\n",
       "      <td>0.0</td>\n",
       "      <td>0.0</td>\n",
       "      <td>0.0</td>\n",
       "      <td>...</td>\n",
       "      <td>0.0</td>\n",
       "      <td>0.0</td>\n",
       "      <td>0.0</td>\n",
       "      <td>0.0</td>\n",
       "      <td>0.0</td>\n",
       "      <td>0.0</td>\n",
       "      <td>0.0</td>\n",
       "      <td>0.0</td>\n",
       "      <td>0.0</td>\n",
       "      <td>0.0</td>\n",
       "    </tr>\n",
       "    <tr>\n",
       "      <th>'O Au No Keia: Voices from Hawai'I's Mahu and Transgender Communities</th>\n",
       "      <td>0.0</td>\n",
       "      <td>0.0</td>\n",
       "      <td>0.0</td>\n",
       "      <td>0.0</td>\n",
       "      <td>0.0</td>\n",
       "      <td>0.0</td>\n",
       "      <td>0.0</td>\n",
       "      <td>0.0</td>\n",
       "      <td>0.0</td>\n",
       "      <td>0.0</td>\n",
       "      <td>...</td>\n",
       "      <td>0.0</td>\n",
       "      <td>0.0</td>\n",
       "      <td>0.0</td>\n",
       "      <td>0.0</td>\n",
       "      <td>0.0</td>\n",
       "      <td>0.0</td>\n",
       "      <td>0.0</td>\n",
       "      <td>0.0</td>\n",
       "      <td>0.0</td>\n",
       "      <td>0.0</td>\n",
       "    </tr>\n",
       "  </tbody>\n",
       "</table>\n",
       "<p>5 rows × 2182 columns</p>\n",
       "</div>"
      ],
      "text/plain": [
       "ID                                                  8       9       10      \\\n",
       "Title                                                                        \n",
       " Jason, Madison &amp                                   0.0     0.0     0.0   \n",
       " Other Stories;Merril;1985;McClelland &amp             0.0     0.0     0.0   \n",
       " Repairing PC Drives &amp                              0.0     0.0     0.0   \n",
       "'48                                                    0.0     0.0     0.0   \n",
       "'O Au No Keia: Voices from Hawai'I's Mahu and T...     0.0     0.0     0.0   \n",
       "\n",
       "ID                                                  12      14      16      \\\n",
       "Title                                                                        \n",
       " Jason, Madison &amp                                   0.0     0.0     0.0   \n",
       " Other Stories;Merril;1985;McClelland &amp             0.0     0.0     0.0   \n",
       " Repairing PC Drives &amp                              0.0     0.0     0.0   \n",
       "'48                                                    0.0     0.0     0.0   \n",
       "'O Au No Keia: Voices from Hawai'I's Mahu and T...     0.0     0.0     0.0   \n",
       "\n",
       "ID                                                  17      19      22      \\\n",
       "Title                                                                        \n",
       " Jason, Madison &amp                                   0.0     0.0     0.0   \n",
       " Other Stories;Merril;1985;McClelland &amp             0.0     0.0     0.0   \n",
       " Repairing PC Drives &amp                              0.0     0.0     0.0   \n",
       "'48                                                    0.0     0.0     0.0   \n",
       "'O Au No Keia: Voices from Hawai'I's Mahu and T...     0.0     0.0     0.0   \n",
       "\n",
       "ID                                                  26      ...  278831  \\\n",
       "Title                                                       ...           \n",
       " Jason, Madison &amp                                   0.0  ...     0.0   \n",
       " Other Stories;Merril;1985;McClelland &amp             0.0  ...     0.0   \n",
       " Repairing PC Drives &amp                              0.0  ...     0.0   \n",
       "'48                                                    0.0  ...     0.0   \n",
       "'O Au No Keia: Voices from Hawai'I's Mahu and T...     0.0  ...     0.0   \n",
       "\n",
       "ID                                                  278832  278836  278843  \\\n",
       "Title                                                                        \n",
       " Jason, Madison &amp                                   0.0     0.0     0.0   \n",
       " Other Stories;Merril;1985;McClelland &amp             0.0     0.0     0.0   \n",
       " Repairing PC Drives &amp                              0.0     0.0     0.0   \n",
       "'48                                                    0.0     0.0     0.0   \n",
       "'O Au No Keia: Voices from Hawai'I's Mahu and T...     0.0     0.0     0.0   \n",
       "\n",
       "ID                                                  278844  278846  278849  \\\n",
       "Title                                                                        \n",
       " Jason, Madison &amp                                   0.0     0.0     0.0   \n",
       " Other Stories;Merril;1985;McClelland &amp             0.0     0.0     0.0   \n",
       " Repairing PC Drives &amp                              0.0     0.0     0.0   \n",
       "'48                                                    0.0     0.0     0.0   \n",
       "'O Au No Keia: Voices from Hawai'I's Mahu and T...     0.0     0.0     0.0   \n",
       "\n",
       "ID                                                  278851  278852  278854  \n",
       "Title                                                                       \n",
       " Jason, Madison &amp                                   0.0     0.0     0.0  \n",
       " Other Stories;Merril;1985;McClelland &amp             0.0     0.0     0.0  \n",
       " Repairing PC Drives &amp                              0.0     0.0     0.0  \n",
       "'48                                                    0.0     0.0     0.0  \n",
       "'O Au No Keia: Voices from Hawai'I's Mahu and T...     0.0     0.0     0.0  \n",
       "\n",
       "[5 rows x 2182 columns]"
      ]
     },
     "execution_count": 29,
     "metadata": {},
     "output_type": "execute_result"
    }
   ],
   "source": [
    "# Display first few rows and columns of books and ratings pivot table\n",
    "Book1_pivot.head()"
   ]
  },
  {
   "cell_type": "code",
   "execution_count": 30,
   "id": "a48eb7bb",
   "metadata": {},
   "outputs": [],
   "source": [
    "# Extract and save book titles\n",
    "Book1_titles = Book1_pivot.index"
   ]
  },
  {
   "cell_type": "code",
   "execution_count": 31,
   "id": "fd0616af",
   "metadata": {},
   "outputs": [],
   "source": [
    "# Define correlation matrix to get correlation between books\n",
    "corr_matrix = np.corrcoef(Book1_pivot)"
   ]
  },
  {
   "cell_type": "code",
   "execution_count": 32,
   "id": "45f8bc84",
   "metadata": {},
   "outputs": [
    {
     "data": {
      "text/plain": [
       "array([[ 1.00000000e+00,  1.00000000e+00,  1.00000000e+00, ...,\n",
       "        -4.58505273e-04, -4.58505273e-04, -4.58505273e-04],\n",
       "       [ 1.00000000e+00,  1.00000000e+00,  1.00000000e+00, ...,\n",
       "        -4.58505273e-04, -4.58505273e-04, -4.58505273e-04],\n",
       "       [ 1.00000000e+00,  1.00000000e+00,  1.00000000e+00, ...,\n",
       "        -4.58505273e-04, -4.58505273e-04, -4.58505273e-04],\n",
       "       ...,\n",
       "       [-4.58505273e-04, -4.58505273e-04, -4.58505273e-04, ...,\n",
       "         1.00000000e+00, -4.58505273e-04, -4.58505273e-04],\n",
       "       [-4.58505273e-04, -4.58505273e-04, -4.58505273e-04, ...,\n",
       "        -4.58505273e-04,  1.00000000e+00, -4.58505273e-04],\n",
       "       [-4.58505273e-04, -4.58505273e-04, -4.58505273e-04, ...,\n",
       "        -4.58505273e-04, -4.58505273e-04,  1.00000000e+00]])"
      ]
     },
     "execution_count": 32,
     "metadata": {},
     "output_type": "execute_result"
    }
   ],
   "source": [
    "# Display correlation matrix\n",
    "corr_matrix"
   ]
  },
  {
   "cell_type": "code",
   "execution_count": 33,
   "id": "c3847ba3",
   "metadata": {},
   "outputs": [],
   "source": [
    "# Define function provide top recommendations\n",
    "def recommender(book_names):  \n",
    "    # Initialize recommendations output \n",
    "    recommendations = np.zeros(corr_matrix.shape[0])\n",
    "    # Loop through the book titles that the user has rated\n",
    "    for book in book_names:\n",
    "        # Sum the correlations\n",
    "        recommendations = recommendations + corr_matrix[list(Book1_titles).index(book)]\n",
    "    # Convert recommendations into dataframe\n",
    "    recommendations_df = pd.DataFrame({\n",
    "            'Title': Book1_titles,\n",
    "            'Recommendation': recommendations})\n",
    "    # Remove booke titles that the user has already rated\n",
    "    recommendations_df = recommendations_df[~(recommendations_df.Title.isin(book_names))]\n",
    "    # Sort from most correlated to least correlated\n",
    "    recommendations_df = recommendations_df.sort_values(by=['Recommendation'], ascending = False)\n",
    "    return recommendations_df"
   ]
  },
  {
   "cell_type": "code",
   "execution_count": 34,
   "id": "a0c5b9af",
   "metadata": {},
   "outputs": [
    {
     "name": "stdout",
     "output_type": "stream",
     "text": [
      "Books rated by user\n",
      "\n",
      "['Carrot Tops and Cottontails', \"We're Going on a Bear Hunt\", 'The Elephant Tree', 'Hoot', 'Dinosaurs and All That Rubbish (Storytime Giants)', \"Miss Bilberry's New House\", 'Thomas and the Station Cat: Lift the Flap Book', \"Humphrey's Corner\", 'The Golden Egg', 'Spot Visits His Grandparents (Picture Puffins)', 'LA Machine Infernale (Le Livre de poche ; 854)', 'La Maison du sommeil']\n"
     ]
    }
   ],
   "source": [
    "# Defining user\n",
    "user = 2799\n",
    "\n",
    "# Getting list of books the defined user has rated\n",
    "user_reviews = Book1[Book1.ID == user].Title.tolist()  \n",
    "print('Books rated by user\\n')\n",
    "print(user_reviews)"
   ]
  },
  {
   "cell_type": "code",
   "execution_count": 35,
   "id": "ba2c48f4",
   "metadata": {},
   "outputs": [
    {
     "name": "stdout",
     "output_type": "stream",
     "text": [
      "\n",
      "Recommendations for user\n",
      "\n",
      "941                          Black Beauty\n",
      "5171                    One Small Sparrow\n",
      "8512          The Third Miracle : A Novel\n",
      "321                     A Wrinkle In Time\n",
      "6121              Shades of Jade: A Novel\n",
      "9378             Where the Red Fern Grows\n",
      "8631    The Vision of Emma Blau : A Novel\n",
      "3958                         LITTLE BIRDS\n",
      "2148                           Douce nuit\n",
      "3419         I Cannot Tell a Lie, Exactly\n",
      "Name: Title, dtype: object\n"
     ]
    }
   ],
   "source": [
    "# Getting the list of recommendations\n",
    "recommendations = recommender(user_reviews)\n",
    "\n",
    "# Print out top 10 recommendations\n",
    "print('\\nRecommendations for user\\n')\n",
    "print(recommendations.Title.head(10))"
   ]
  },
  {
   "cell_type": "code",
   "execution_count": null,
   "id": "174bf700",
   "metadata": {},
   "outputs": [],
   "source": []
  }
 ],
 "metadata": {
  "kernelspec": {
   "display_name": "Python 3",
   "language": "python",
   "name": "python3"
  },
  "language_info": {
   "codemirror_mode": {
    "name": "ipython",
    "version": 3
   },
   "file_extension": ".py",
   "mimetype": "text/x-python",
   "name": "python",
   "nbconvert_exporter": "python",
   "pygments_lexer": "ipython3",
   "version": "3.8.8"
  }
 },
 "nbformat": 4,
 "nbformat_minor": 5
}
